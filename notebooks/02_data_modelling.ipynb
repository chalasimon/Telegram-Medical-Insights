{
 "cells": [
  {
   "cell_type": "markdown",
   "id": "51eb5a33",
   "metadata": {},
   "source": [
    "# Data Modelling and Transformation"
   ]
  },
  {
   "cell_type": "code",
   "execution_count": 1,
   "id": "de515dc6",
   "metadata": {},
   "outputs": [],
   "source": [
    "# import libraries\n",
    "import os\n",
    "import sys"
   ]
  },
  {
   "cell_type": "code",
   "execution_count": 2,
   "id": "93cab0de",
   "metadata": {},
   "outputs": [],
   "source": [
    "from pathlib import Path\n",
    "from importlib import reload\n",
    "# add the project root to the path\n",
    "project_root = Path(\"..\").resolve()\n",
    "if str(project_root) not in sys.path:\n",
    "    sys.path.insert(0, str(project_root))"
   ]
  },
  {
   "cell_type": "code",
   "execution_count": 3,
   "id": "5003ce4d",
   "metadata": {},
   "outputs": [
    {
     "data": {
      "text/plain": [
       "<module 'src.database.Connection' from '/home/chalasimon/Documents/10academy/week 7/challenge/Telegram-Medical-Insights/src/database/Connection.py'>"
      ]
     },
     "execution_count": 3,
     "metadata": {},
     "output_type": "execute_result"
    }
   ],
   "source": [
    "#import the module\n",
    "from src.database.Connection import Database\n",
    "import src.database.Connection\n",
    "# reload the module to ensure we have the latest version\n",
    "reload(src.database.Connection)"
   ]
  },
  {
   "cell_type": "code",
   "execution_count": 4,
   "id": "f2dd7e1d",
   "metadata": {},
   "outputs": [
    {
     "name": "stdout",
     "output_type": "stream",
     "text": [
      "Connection to the database established successfully.\n"
     ]
    }
   ],
   "source": [
    "host = \"localhost\"\n",
    "port = 5432\n",
    "# get the database credentials from environment variables or use defaults\n",
    "# you can set these in a .env file or directly in your environment\n",
    "# for example, using dotenv package to load from .env file\n",
    "from dotenv import load_dotenv\n",
    "load_dotenv()\n",
    "\n",
    "host=os.getenv(\"POSTGRES_HOST\")\n",
    "dbname=os.getenv(\"POSTGRES_DB\")\n",
    "user=os.getenv(\"POSTGRES_USER\")\n",
    "password=os.getenv(\"POSTGRES_PASSWORD\")\n",
    "port=os.getenv(\"POSTGRES_PORT\")\n",
    "\n",
    "# create a database connection\n",
    "db = Database(host=host,database=dbname, user=user, password=password, port=port)\n",
    "# connect to the database\n",
    "con = db.connect()"
   ]
  },
  {
   "cell_type": "code",
   "execution_count": 5,
   "id": "ff3c40cf",
   "metadata": {},
   "outputs": [
    {
     "name": "stdout",
     "output_type": "stream",
     "text": [
      "Table created successfully.\n"
     ]
    }
   ],
   "source": [
    "# create table\n",
    "create_telegram_table = \"\"\"\n",
    "create schema if not exists raw;\n",
    "\n",
    "create table if not exists raw.telegram_messages (\n",
    "  channel_title      text,\n",
    "  channel_username   text not null,\n",
    "  id                 bigint not null,\n",
    "  text               text,\n",
    "  date               timestamptz,\n",
    "  views              integer,\n",
    "  media_type         text,\n",
    "  media_path         text,\n",
    "  load_ts            timestamptz not null default now(),\n",
    "  source_file        text not null,\n",
    "  constraint telegram_messages_pk primary key (channel_username, id)\n",
    ");\n",
    "\"\"\"\n",
    "# create the tables\n",
    "db.create_table(create_telegram_table)"
   ]
  },
  {
   "cell_type": "code",
   "execution_count": null,
   "id": "dc540cb5",
   "metadata": {},
   "outputs": [
    {
     "data": {
      "text/plain": [
       "6"
      ]
     },
     "execution_count": 12,
     "metadata": {},
     "output_type": "execute_result"
    }
   ],
   "source": [
    "from pathlib import Path\n",
    "import json\n",
    "import pandas as pd\n",
    "\n",
    "partition = sorted(Path(\"../data/raw/telegram_messages\").glob(\"*\"))[-1]  # latest day\n",
    "files = sorted(partition.glob(\"*.json\"))\n",
    "\n",
    "def normalize(df, src):\n",
    "    cols = [\"channel_title\",\"channel_username\",\"id\",\"text\",\"date\",\"views\",\"media_type\",\"media_path\"]\n",
    "    for c in cols:\n",
    "        if c not in df.columns: df[c] = None\n",
    "    df = df[cols].copy()\n",
    "    df[\"id\"] = pd.to_numeric(df[\"id\"], errors=\"coerce\")\n",
    "    df[\"views\"] = pd.to_numeric(df[\"views\"], errors=\"coerce\").fillna(0).astype(\"Int64\")\n",
    "    df[\"date\"] = pd.to_datetime(df[\"date\"], errors=\"coerce\", utc=True)\n",
    "    df[\"source_file\"] = str(src)\n",
    "    return df\n",
    "\n",
    "loaded = 0\n",
    "for f in files:\n",
    "    data = json.loads(f.read_text(encoding=\"utf-8\"))\n",
    "    if isinstance(data, dict):\n",
    "        data = [data]\n",
    "    df = normalize(pd.DataFrame(data), f)\n",
    "    # insert the data into the database\n",
    "    \n",
    "    loaded += 1\n",
    "\n",
    "loaded\n"
   ]
  },
  {
   "cell_type": "code",
   "execution_count": 7,
   "id": "a71a4824",
   "metadata": {},
   "outputs": [],
   "source": [
    "#test \n",
    "cur = con.cursor()\n"
   ]
  },
  {
   "cell_type": "code",
   "execution_count": 8,
   "id": "99ff8208",
   "metadata": {},
   "outputs": [
    {
     "name": "stdout",
     "output_type": "stream",
     "text": [
      "None\n"
     ]
    }
   ],
   "source": [
    "cur.execute(\"SELECT from raw.telegram_messages;\")\n",
    "print(cur.fetchone())\n"
   ]
  }
 ],
 "metadata": {
  "kernelspec": {
   "display_name": ".venv",
   "language": "python",
   "name": "python3"
  },
  "language_info": {
   "codemirror_mode": {
    "name": "ipython",
    "version": 3
   },
   "file_extension": ".py",
   "mimetype": "text/x-python",
   "name": "python",
   "nbconvert_exporter": "python",
   "pygments_lexer": "ipython3",
   "version": "3.12.3"
  }
 },
 "nbformat": 4,
 "nbformat_minor": 5
}
