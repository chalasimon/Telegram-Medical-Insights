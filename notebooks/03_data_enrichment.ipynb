{
 "cells": [
  {
   "cell_type": "markdown",
   "id": "37b1bc96",
   "metadata": {},
   "source": [
    "# Task 3 - Data Enrichment with Object Detection (YOLO)"
   ]
  },
  {
   "cell_type": "code",
   "execution_count": 1,
   "id": "1ca16f68",
   "metadata": {},
   "outputs": [],
   "source": [
    "# import libraries\n",
    "import sys\n",
    "import os\n",
    "import pandas as pd\n",
    "from glob import glob"
   ]
  },
  {
   "cell_type": "code",
   "execution_count": 2,
   "id": "45da8392",
   "metadata": {},
   "outputs": [],
   "source": [
    "from pathlib import Path\n",
    "from importlib import reload\n",
    "# add the project root to the path\n",
    "project_root = Path(\"..\").resolve()\n",
    "if str(project_root) not in sys.path:\n",
    "    sys.path.insert(0, str(project_root))"
   ]
  },
  {
   "cell_type": "markdown",
   "id": "cac8711c",
   "metadata": {},
   "source": [
    "### Database connection"
   ]
  },
  {
   "cell_type": "code",
   "execution_count": 3,
   "id": "c024461a",
   "metadata": {},
   "outputs": [
    {
     "data": {
      "text/plain": [
       "<module 'src.database.Connection' from '/home/chalasimon/Documents/10academy/week 7/challenge/Telegram-Medical-Insights/src/database/Connection.py'>"
      ]
     },
     "execution_count": 3,
     "metadata": {},
     "output_type": "execute_result"
    }
   ],
   "source": [
    "#import the module\n",
    "from src.database.Connection import Database\n",
    "import src.database.Connection\n",
    "# reload the module to ensure we have the latest version\n",
    "reload(src.database.Connection)"
   ]
  },
  {
   "cell_type": "code",
   "execution_count": 4,
   "id": "fea08ba8",
   "metadata": {},
   "outputs": [
    {
     "name": "stdout",
     "output_type": "stream",
     "text": [
      "Connection to the database established successfully.\n"
     ]
    }
   ],
   "source": [
    "host = \"localhost\"\n",
    "port = 5432\n",
    "# get the database credentials from environment variables or use defaults\n",
    "# you can set these in a .env file or directly in your environment\n",
    "# for example, using dotenv package to load from .env file\n",
    "from dotenv import load_dotenv\n",
    "load_dotenv()\n",
    "\n",
    "host=os.getenv(\"POSTGRES_HOST\")\n",
    "dbname=os.getenv(\"POSTGRES_DB\")\n",
    "user=os.getenv(\"POSTGRES_USER\")\n",
    "password=os.getenv(\"POSTGRES_PASSWORD\")\n",
    "port=os.getenv(\"POSTGRES_PORT\")\n",
    "\n",
    "# create a database connection\n",
    "db = Database(host=host,database=dbname, user=user, password=password, port=port)\n",
    "# connect to the database\n",
    "con = db.connect()"
   ]
  },
  {
   "cell_type": "markdown",
   "id": "e5f619d3",
   "metadata": {},
   "source": [
    "### Data Enrichment with YOLO"
   ]
  },
  {
   "cell_type": "code",
   "execution_count": 6,
   "id": "9cdc2652",
   "metadata": {},
   "outputs": [],
   "source": [
    "# import libraries\n",
    "import os, time, logging\n",
    "from dotenv import load_dotenv\n",
    "from src.enrichment.yolo_detect import select_images_to_process, run_yolo_on_image, insert_detections\n",
    "from ultralytics import YOLO"
   ]
  },
  {
   "cell_type": "code",
   "execution_count": null,
   "id": "4fcd05c5",
   "metadata": {},
   "outputs": [],
   "source": [
    "def main(limit=None, model_name=None, rerun=False):\n",
    "    load_dotenv()\n",
    "    model_name = model_name or os.getenv(\"YOLO_MODEL\", \"yolov8n.pt\")\n",
    "    logging.info(f\"Loading YOLO model: {model_name}\")\n",
    "    model = YOLO(model_name)\n",
    "\n",
    "    targets = select_images_to_process(con, limit=limit, rerun=rerun)\n",
    "    logging.info(f\"Images to process: {len(targets)}\")\n",
    "\n",
    "    inserted = 0\n",
    "    t0 = time.time()\n",
    "\n",
    "    for idx, (message_id, image_path) in enumerate(targets, 1):\n",
    "        dets = run_yolo_on_image(model, image_path)\n",
    "        batch = [\n",
    "            (\n",
    "                message_id,\n",
    "                image_path,\n",
    "                d[\"detected_class\"],\n",
    "                d[\"confidence\"],\n",
    "                d[\"bbox_xmin\"],\n",
    "                d[\"bbox_ymin\"],\n",
    "                d[\"bbox_xmax\"],\n",
    "                d[\"bbox_ymax\"],\n",
    "                model_name,\n",
    "            )\n",
    "            for d in dets\n",
    "        ]\n",
    "        inserted += insert_detections(con, batch)\n",
    "        if idx % 50 == 0:\n",
    "            logging.info(f\"Processed {idx}/{len(targets)} images...\")\n",
    "\n",
    "    logging.info(f\"Done. Inserted {inserted} detection rows in {time.time()-t0:.1f}s.\")\n"
   ]
  }
 ],
 "metadata": {
  "kernelspec": {
   "display_name": ".venv",
   "language": "python",
   "name": "python3"
  },
  "language_info": {
   "codemirror_mode": {
    "name": "ipython",
    "version": 3
   },
   "file_extension": ".py",
   "mimetype": "text/x-python",
   "name": "python",
   "nbconvert_exporter": "python",
   "pygments_lexer": "ipython3",
   "version": "3.12.3"
  }
 },
 "nbformat": 4,
 "nbformat_minor": 5
}
