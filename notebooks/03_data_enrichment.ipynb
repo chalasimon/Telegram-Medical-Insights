{
 "cells": [
  {
   "cell_type": "markdown",
   "id": "37b1bc96",
   "metadata": {},
   "source": [
    "# Task 3 - Data Enrichment with Object Detection (YOLO)"
   ]
  },
  {
   "cell_type": "code",
   "execution_count": null,
   "id": "1ca16f68",
   "metadata": {},
   "outputs": [],
   "source": []
  }
 ],
 "metadata": {
  "kernelspec": {
   "display_name": ".venv",
   "language": "python",
   "name": "python3"
  },
  "language_info": {
   "name": "python",
   "version": "3.12.3"
  }
 },
 "nbformat": 4,
 "nbformat_minor": 5
}
