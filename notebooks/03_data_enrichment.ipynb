{
 "cells": [
  {
   "cell_type": "markdown",
   "id": "37b1bc96",
   "metadata": {},
   "source": [
    "# Task 3 - Data Enrichment with Object Detection (YOLO)"
   ]
  },
  {
   "cell_type": "code",
   "execution_count": 1,
   "id": "1ca16f68",
   "metadata": {},
   "outputs": [],
   "source": [
    "# import libraries\n",
    "import sys\n",
    "import os\n",
    "import pandas as pd\n",
    "from glob import glob"
   ]
  },
  {
   "cell_type": "code",
   "execution_count": 2,
   "id": "45da8392",
   "metadata": {},
   "outputs": [],
   "source": [
    "from pathlib import Path\n",
    "from importlib import reload\n",
    "# add the project root to the path\n",
    "project_root = Path(\"..\").resolve()\n",
    "if str(project_root) not in sys.path:\n",
    "    sys.path.insert(0, str(project_root))"
   ]
  },
  {
   "cell_type": "markdown",
   "id": "cac8711c",
   "metadata": {},
   "source": [
    "### Database connection"
   ]
  },
  {
   "cell_type": "code",
   "execution_count": 3,
   "id": "c024461a",
   "metadata": {},
   "outputs": [
    {
     "data": {
      "text/plain": [
       "<module 'src.database.Connection' from '/home/chalasimon/Documents/10academy/week 7/challenge/Telegram-Medical-Insights/src/database/Connection.py'>"
      ]
     },
     "execution_count": 3,
     "metadata": {},
     "output_type": "execute_result"
    }
   ],
   "source": [
    "#import the module\n",
    "from src.database.Connection import Database\n",
    "import src.database.Connection\n",
    "# reload the module to ensure we have the latest version\n",
    "reload(src.database.Connection)"
   ]
  },
  {
   "cell_type": "code",
   "execution_count": 4,
   "id": "fea08ba8",
   "metadata": {},
   "outputs": [
    {
     "name": "stdout",
     "output_type": "stream",
     "text": [
      "Connection to the database established successfully.\n"
     ]
    }
   ],
   "source": [
    "host = \"localhost\"\n",
    "port = 5432\n",
    "# get the database credentials from environment variables or use defaults\n",
    "# you can set these in a .env file or directly in your environment\n",
    "# for example, using dotenv package to load from .env file\n",
    "from dotenv import load_dotenv\n",
    "load_dotenv()\n",
    "\n",
    "host=os.getenv(\"POSTGRES_HOST\")\n",
    "dbname=os.getenv(\"POSTGRES_DB\")\n",
    "user=os.getenv(\"POSTGRES_USER\")\n",
    "password=os.getenv(\"POSTGRES_PASSWORD\")\n",
    "port=os.getenv(\"POSTGRES_PORT\")\n",
    "\n",
    "# create a database connection\n",
    "db = Database(host=host,database=dbname, user=user, password=password, port=port)\n",
    "# connect to the database\n",
    "con = db.connect()"
   ]
  },
  {
   "cell_type": "markdown",
   "id": "e5f619d3",
   "metadata": {},
   "source": [
    "### Data Enrichment with YOLO"
   ]
  },
  {
   "cell_type": "code",
   "execution_count": 6,
   "id": "9cdc2652",
   "metadata": {},
   "outputs": [],
   "source": [
    "# import libraries\n",
    "import os, time, logging\n",
    "from dotenv import load_dotenv\n",
    "from src.enrichment.yolo_detect import select_images_to_process, run_yolo_on_image, insert_detections\n",
    "from ultralytics import YOLO"
   ]
  },
  {
   "cell_type": "code",
   "execution_count": 7,
   "id": "4fcd05c5",
   "metadata": {},
   "outputs": [],
   "source": [
    "def main(limit=None, model_name=None, rerun=False):\n",
    "    load_dotenv()\n",
    "    model_name = model_name or os.getenv(\"YOLO_MODEL\", \"yolov8n.pt\")\n",
    "    logging.info(f\"Loading YOLO model: {model_name}\")\n",
    "    model = YOLO(model_name)\n",
    "\n",
    "    targets = select_images_to_process(con, limit=limit, rerun=rerun)\n",
    "    logging.info(f\"Images to process: {len(targets)}\")\n",
    "\n",
    "    inserted = 0\n",
    "    t0 = time.time()\n",
    "\n",
    "    for idx, (message_id, image_path) in enumerate(targets, 1):\n",
    "        dets = run_yolo_on_image(model, image_path)\n",
    "        batch = [\n",
    "            (\n",
    "                message_id,\n",
    "                image_path,\n",
    "                d[\"detected_class\"],\n",
    "                d[\"confidence\"],\n",
    "                d[\"bbox_xmin\"],\n",
    "                d[\"bbox_ymin\"],\n",
    "                d[\"bbox_xmax\"],\n",
    "                d[\"bbox_ymax\"],\n",
    "                model_name,\n",
    "            )\n",
    "            for d in dets\n",
    "        ]\n",
    "        inserted += insert_detections(con, batch)\n",
    "        if idx % 50 == 0:\n",
    "            logging.info(f\"Processed {idx}/{len(targets)} images...\")\n",
    "\n",
    "    logging.info(f\"Done. Inserted {inserted} detection rows in {time.time()-t0:.1f}s.\")\n"
   ]
  },
  {
   "cell_type": "code",
   "execution_count": 9,
   "id": "c8c93c31",
   "metadata": {},
   "outputs": [
    {
     "name": "stderr",
     "output_type": "stream",
     "text": [
      "2025-08-19 10:11:22,980 [INFO] Loading YOLO model: yolov8n.pt\n",
      "Downloading https://github.com/ultralytics/assets/releases/download/v8.3.0/yolov8n.pt to 'yolov8n.pt': 100%|██████████| 6.25M/6.25M [00:51<00:00, 126kB/s] \n",
      "2025-08-19 10:12:18,226 [INFO] Images to process: 3896\n",
      "2025-08-19 10:12:39,243 [INFO] Processed 50/3896 images...\n",
      "2025-08-19 10:12:47,344 [INFO] Processed 100/3896 images...\n",
      "2025-08-19 10:12:54,871 [INFO] Processed 150/3896 images...\n",
      "2025-08-19 10:13:02,395 [INFO] Processed 200/3896 images...\n",
      "2025-08-19 10:13:11,246 [INFO] Processed 250/3896 images...\n",
      "2025-08-19 10:13:20,621 [INFO] Processed 300/3896 images...\n",
      "2025-08-19 10:13:30,756 [INFO] Processed 350/3896 images...\n",
      "2025-08-19 10:13:40,838 [INFO] Processed 400/3896 images...\n",
      "2025-08-19 10:13:50,296 [INFO] Processed 450/3896 images...\n",
      "2025-08-19 10:13:59,388 [INFO] Processed 500/3896 images...\n",
      "2025-08-19 10:14:07,492 [INFO] Processed 550/3896 images...\n",
      "2025-08-19 10:14:15,247 [INFO] Processed 600/3896 images...\n",
      "2025-08-19 10:14:22,382 [INFO] Processed 650/3896 images...\n",
      "2025-08-19 10:14:31,757 [INFO] Processed 700/3896 images...\n",
      "2025-08-19 10:14:40,419 [INFO] Processed 750/3896 images...\n",
      "2025-08-19 10:14:48,091 [INFO] Processed 800/3896 images...\n",
      "2025-08-19 10:14:56,693 [INFO] Processed 850/3896 images...\n",
      "2025-08-19 10:15:05,153 [INFO] Processed 900/3896 images...\n",
      "2025-08-19 10:15:12,823 [INFO] Processed 950/3896 images...\n",
      "2025-08-19 10:15:21,476 [INFO] Processed 1000/3896 images...\n",
      "2025-08-19 10:15:29,855 [INFO] Processed 1050/3896 images...\n",
      "2025-08-19 10:15:38,889 [INFO] Processed 1100/3896 images...\n",
      "2025-08-19 10:15:47,256 [INFO] Processed 1150/3896 images...\n",
      "2025-08-19 10:15:55,656 [INFO] Processed 1200/3896 images...\n",
      "2025-08-19 10:16:04,290 [INFO] Processed 1250/3896 images...\n",
      "2025-08-19 10:16:13,713 [INFO] Processed 1300/3896 images...\n",
      "2025-08-19 10:16:21,722 [INFO] Processed 1350/3896 images...\n",
      "2025-08-19 10:16:30,236 [INFO] Processed 1400/3896 images...\n",
      "2025-08-19 10:16:38,424 [INFO] Processed 1450/3896 images...\n",
      "2025-08-19 10:16:47,374 [INFO] Processed 1500/3896 images...\n",
      "2025-08-19 10:16:54,950 [INFO] Processed 1550/3896 images...\n",
      "2025-08-19 10:17:02,366 [INFO] Processed 1600/3896 images...\n",
      "2025-08-19 10:17:09,640 [INFO] Processed 1650/3896 images...\n",
      "2025-08-19 10:17:17,151 [INFO] Processed 1700/3896 images...\n",
      "2025-08-19 10:17:25,397 [INFO] Processed 1750/3896 images...\n",
      "2025-08-19 10:17:33,382 [INFO] Processed 1800/3896 images...\n",
      "2025-08-19 10:17:42,582 [INFO] Processed 1850/3896 images...\n",
      "2025-08-19 10:17:52,053 [INFO] Processed 1900/3896 images...\n",
      "2025-08-19 10:18:00,754 [INFO] Processed 1950/3896 images...\n",
      "2025-08-19 10:18:09,154 [INFO] Processed 2000/3896 images...\n",
      "2025-08-19 10:18:17,890 [INFO] Processed 2050/3896 images...\n",
      "2025-08-19 10:18:25,011 [INFO] Processed 2100/3896 images...\n",
      "2025-08-19 10:18:31,331 [INFO] Processed 2150/3896 images...\n",
      "2025-08-19 10:18:37,378 [INFO] Processed 2200/3896 images...\n",
      "2025-08-19 10:18:43,556 [INFO] Processed 2250/3896 images...\n",
      "2025-08-19 10:18:49,524 [INFO] Processed 2300/3896 images...\n",
      "2025-08-19 10:18:55,219 [INFO] Processed 2350/3896 images...\n",
      "2025-08-19 10:19:01,075 [INFO] Processed 2400/3896 images...\n",
      "2025-08-19 10:19:07,156 [INFO] Processed 2450/3896 images...\n",
      "2025-08-19 10:19:13,069 [INFO] Processed 2500/3896 images...\n",
      "2025-08-19 10:19:19,021 [INFO] Processed 2550/3896 images...\n",
      "2025-08-19 10:19:25,853 [INFO] Processed 2600/3896 images...\n",
      "2025-08-19 10:19:32,087 [INFO] Processed 2650/3896 images...\n",
      "2025-08-19 10:19:39,604 [INFO] Processed 2700/3896 images...\n",
      "2025-08-19 10:19:47,398 [INFO] Processed 2750/3896 images...\n",
      "2025-08-19 10:19:55,257 [INFO] Processed 2800/3896 images...\n",
      "2025-08-19 10:20:01,604 [INFO] Processed 2850/3896 images...\n",
      "2025-08-19 10:20:09,081 [INFO] Processed 2900/3896 images...\n",
      "2025-08-19 10:20:20,150 [INFO] Processed 2950/3896 images...\n",
      "2025-08-19 10:20:27,942 [INFO] Processed 3000/3896 images...\n",
      "2025-08-19 10:20:36,761 [INFO] Processed 3050/3896 images...\n",
      "2025-08-19 10:20:45,884 [INFO] Processed 3100/3896 images...\n",
      "2025-08-19 10:20:56,585 [INFO] Processed 3150/3896 images...\n",
      "2025-08-19 10:21:05,485 [INFO] Processed 3200/3896 images...\n",
      "2025-08-19 10:21:13,265 [INFO] Processed 3250/3896 images...\n",
      "2025-08-19 10:21:21,053 [INFO] Processed 3300/3896 images...\n",
      "2025-08-19 10:21:29,320 [INFO] Processed 3350/3896 images...\n",
      "2025-08-19 10:21:38,410 [INFO] Processed 3400/3896 images...\n",
      "2025-08-19 10:21:47,577 [INFO] Processed 3450/3896 images...\n",
      "2025-08-19 10:21:56,555 [INFO] Processed 3500/3896 images...\n",
      "2025-08-19 10:22:05,311 [INFO] Processed 3550/3896 images...\n",
      "2025-08-19 10:22:13,063 [INFO] Processed 3600/3896 images...\n",
      "2025-08-19 10:22:21,035 [INFO] Processed 3650/3896 images...\n",
      "2025-08-19 10:22:28,735 [INFO] Processed 3700/3896 images...\n",
      "2025-08-19 10:22:36,169 [INFO] Processed 3750/3896 images...\n",
      "2025-08-19 10:22:43,382 [INFO] Processed 3800/3896 images...\n",
      "2025-08-19 10:22:50,882 [INFO] Processed 3850/3896 images...\n",
      "2025-08-19 10:22:57,690 [INFO] Done. Inserted 11486 detection rows in 639.5s.\n"
     ]
    }
   ],
   "source": [
    "import sys\n",
    "\n",
    "if __name__ == \"__main__\":\n",
    "    import argparse\n",
    "    p = argparse.ArgumentParser(description=\"YOLOv8 detections into raw.image_detections\")\n",
    "    p.add_argument(\"--limit\", type=int, default=None, help=\"Max images to process\")\n",
    "    p.add_argument(\"--model\", type=str, default=None, help=\"YOLO model (e.g., yolov8n.pt)\")\n",
    "    p.add_argument(\"--rerun\", action=\"store_true\", help=\"Recompute even if detections exist\")\n",
    "    a, unknown = p.parse_known_args()   # <-- parse_known_args ignores extra notebook args\n",
    "    main(limit=a.limit, model_name=a.model, rerun=a.rerun)\n"
   ]
  }
 ],
 "metadata": {
  "kernelspec": {
   "display_name": ".venv",
   "language": "python",
   "name": "python3"
  },
  "language_info": {
   "codemirror_mode": {
    "name": "ipython",
    "version": 3
   },
   "file_extension": ".py",
   "mimetype": "text/x-python",
   "name": "python",
   "nbconvert_exporter": "python",
   "pygments_lexer": "ipython3",
   "version": "3.12.3"
  }
 },
 "nbformat": 4,
 "nbformat_minor": 5
}
