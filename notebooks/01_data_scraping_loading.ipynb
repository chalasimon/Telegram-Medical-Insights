{
 "cells": [
  {
   "cell_type": "markdown",
   "id": "7f9b05f9",
   "metadata": {},
   "source": [
    "# Task 1: Data Scraping and Collection (Extract & Load)"
   ]
  },
  {
   "cell_type": "code",
   "execution_count": 1,
   "id": "1d5e2877",
   "metadata": {},
   "outputs": [],
   "source": [
    "# import libraries\n",
    "import sys\n",
    "import os\n",
    "import pandas as pd\n",
    "from glob import glob"
   ]
  },
  {
   "cell_type": "code",
   "execution_count": 2,
   "id": "bb88a49b",
   "metadata": {},
   "outputs": [],
   "source": [
    "from pathlib import Path\n",
    "from importlib import reload\n",
    "# add the project root to the path\n",
    "project_root = Path(\"..\").resolve()\n",
    "if str(project_root) not in sys.path:\n",
    "    sys.path.insert(0, str(project_root))"
   ]
  },
  {
   "cell_type": "markdown",
   "id": "7417dacf",
   "metadata": {},
   "source": [
    "### Data scaping"
   ]
  },
  {
   "cell_type": "code",
   "execution_count": 3,
   "id": "f01dfff3",
   "metadata": {},
   "outputs": [
    {
     "data": {
      "text/plain": [
       "<module 'src.data_scrapper' from '/home/chalasimon/Documents/10academy/week 7/challenge/Telegram-Medical-Insights/src/data_scrapper.py'>"
      ]
     },
     "execution_count": 3,
     "metadata": {},
     "output_type": "execute_result"
    }
   ],
   "source": [
    "# import the data scraping module\n",
    "from src.data_scrapper import TelegramScraper\n",
    "import src.data_scrapper\n",
    "# reload the module to ensure it's up-to-date\n",
    "reload(src.data_scrapper)"
   ]
  },
  {
   "cell_type": "code",
   "execution_count": 4,
   "id": "dba4180a",
   "metadata": {},
   "outputs": [
    {
     "name": "stdout",
     "output_type": "stream",
     "text": [
      "Scraping from @lobelia4cosmetics ...\n"
     ]
    },
    {
     "name": "stderr",
     "output_type": "stream",
     "text": [
      "Scraping @lobelia4cosmetics: 100%|██████████| 1000/1000 [03:51<00:00,  4.32it/s]\n"
     ]
    },
    {
     "name": "stdout",
     "output_type": "stream",
     "text": [
      "@lobelia4cosmetics scraped in 231.86 sec. Messages saved to ../data/raw/telegram_messages/2025-08-17/lobelia4cosmetics.json and ../data/raw/telegram_messages/2025-08-17/lobelia4cosmetics.csv\n",
      "Scraping from @tikvahpharma ...\n"
     ]
    },
    {
     "name": "stderr",
     "output_type": "stream",
     "text": [
      "Scraping @tikvahpharma: 100%|██████████| 1000/1000 [01:48<00:00,  9.24it/s]\n"
     ]
    },
    {
     "name": "stdout",
     "output_type": "stream",
     "text": [
      "@tikvahpharma scraped in 108.61 sec. Messages saved to ../data/raw/telegram_messages/2025-08-17/tikvahpharma.json and ../data/raw/telegram_messages/2025-08-17/tikvahpharma.csv\n",
      "Scraping from @yetenaweg ...\n"
     ]
    },
    {
     "name": "stderr",
     "output_type": "stream",
     "text": [
      "Scraping @yetenaweg: 100%|██████████| 1000/1000 [05:27<00:00,  3.06it/s]\n"
     ]
    },
    {
     "name": "stdout",
     "output_type": "stream",
     "text": [
      "@yetenaweg scraped in 327.25 sec. Messages saved to ../data/raw/telegram_messages/2025-08-17/yetenaweg.json and ../data/raw/telegram_messages/2025-08-17/yetenaweg.csv\n",
      "Scraping from @ethiopianfoodanddrugauthority ...\n"
     ]
    },
    {
     "name": "stderr",
     "output_type": "stream",
     "text": [
      "Scraping @ethiopianfoodanddrugauthority: 100%|██████████| 1000/1000 [06:16<00:00,  2.66it/s]\n"
     ]
    },
    {
     "name": "stdout",
     "output_type": "stream",
     "text": [
      "@ethiopianfoodanddrugauthority scraped in 376.85 sec. Messages saved to ../data/raw/telegram_messages/2025-08-17/ethiopianfoodanddrugauthority.json and ../data/raw/telegram_messages/2025-08-17/ethiopianfoodanddrugauthority.csv\n",
      "Scraping from @CheMed123 ...\n"
     ]
    },
    {
     "name": "stderr",
     "output_type": "stream",
     "text": [
      "Scraping @CheMed123:   8%|▊         | 76/1000 [00:22<04:27,  3.45it/s]\n"
     ]
    },
    {
     "name": "stdout",
     "output_type": "stream",
     "text": [
      "@CheMed123 scraped in 22.19 sec. Messages saved to ../data/raw/telegram_messages/2025-08-17/CheMed123.json and ../data/raw/telegram_messages/2025-08-17/CheMed123.csv\n",
      "Scraping from @newoptics ...\n"
     ]
    },
    {
     "name": "stderr",
     "output_type": "stream",
     "text": [
      "Scraping @newoptics: 100%|██████████| 1000/1000 [03:14<00:00,  5.14it/s]"
     ]
    },
    {
     "name": "stdout",
     "output_type": "stream",
     "text": [
      "@newoptics scraped in 194.87 sec. Messages saved to ../data/raw/telegram_messages/2025-08-17/newoptics.json and ../data/raw/telegram_messages/2025-08-17/newoptics.csv\n"
     ]
    },
    {
     "name": "stderr",
     "output_type": "stream",
     "text": [
      "\n"
     ]
    }
   ],
   "source": [
    "# initialize the Telegram scraper\n",
    "scraper = TelegramScraper(test_mode=False)\n",
    "# scrape the data\n",
    "\n",
    "channels = [\n",
    "       \"@lobelia4cosmetics\",\n",
    "            \"@tikvahpharma\",\n",
    "            \"@yetenaweg\",\n",
    "            \"@ethiopianfoodanddrugauthority\",\n",
    "            \"@CheMed123\",\n",
    "            \"@newoptics\",\n",
    "]\n",
    "\n",
    "await scraper.scrape_channels(channels=channels)\n"
   ]
  }
 ],
 "metadata": {
  "kernelspec": {
   "display_name": ".venv",
   "language": "python",
   "name": "python3"
  },
  "language_info": {
   "codemirror_mode": {
    "name": "ipython",
    "version": 3
   },
   "file_extension": ".py",
   "mimetype": "text/x-python",
   "name": "python",
   "nbconvert_exporter": "python",
   "pygments_lexer": "ipython3",
   "version": "3.12.3"
  }
 },
 "nbformat": 4,
 "nbformat_minor": 5
}
